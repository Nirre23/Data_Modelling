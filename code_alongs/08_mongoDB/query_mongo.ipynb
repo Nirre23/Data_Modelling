{
 "cells": [
  {
   "cell_type": "markdown",
   "metadata": {},
   "source": [
    "# Query MongoDB\n"
   ]
  },
  {
   "cell_type": "code",
   "execution_count": 5,
   "metadata": {},
   "outputs": [
    {
     "data": {
      "text/plain": [
       "Collection(Database(MongoClient(host=['localhost:27017'], document_class=dict, tz_aware=False, connect=True, authsource='admin'), 'linkedin'), 'profile')"
      ]
     },
     "execution_count": 5,
     "metadata": {},
     "output_type": "execute_result"
    }
   ],
   "source": [
    "from connect_mongo import get_collection\n",
    "\n",
    "profiles = get_collection(\"linkedin\", \"profile\")\n",
    "profiles"
   ]
  },
  {
   "cell_type": "code",
   "execution_count": 6,
   "metadata": {},
   "outputs": [
    {
     "data": {
      "text/plain": [
       "{'_id': ObjectId('67e12d867df175a23ffbf11d'),\n",
       " 'user_id': 42145,\n",
       " 'first_name': 'Kokchun',\n",
       " 'last_name': 'Giang',\n",
       " 'about': 'Data engineer, scientist, and educator passionate about turning messy data into valuable insights. Loves open-source projects and community contributions.',\n",
       " 'photo_url': 'https://media.licdn.com/digitalprofile/kokchun',\n",
       " 'experience': [{'title': 'Founder & Lead Consultant',\n",
       "   'organization': 'AIgineer',\n",
       "   'start_date': '2024-01',\n",
       "   'end_date': 'present',\n",
       "   'description': 'Advising businesses on integrating AI solutions and developing custom data engineering pipelines.'},\n",
       "  {'title': 'Lecturer in AI and Machine Learning',\n",
       "   'organization': 'IT-HÃƒÂ¶gskolan',\n",
       "   'start_date': '2021-01',\n",
       "   'end_date': '2023-12',\n",
       "   'description': 'Taught courses on AI, machine learning, and data analytics to undergraduate and graduate students.'}]}"
      ]
     },
     "execution_count": 6,
     "metadata": {},
     "output_type": "execute_result"
    }
   ],
   "source": [
    "profiles.find_one()"
   ]
  }
 ],
 "metadata": {
  "kernelspec": {
   "display_name": ".venv",
   "language": "python",
   "name": "python3"
  },
  "language_info": {
   "codemirror_mode": {
    "name": "ipython",
    "version": 3
   },
   "file_extension": ".py",
   "mimetype": "text/x-python",
   "name": "python",
   "nbconvert_exporter": "python",
   "pygments_lexer": "ipython3",
   "version": "3.12.5"
  }
 },
 "nbformat": 4,
 "nbformat_minor": 2
}
